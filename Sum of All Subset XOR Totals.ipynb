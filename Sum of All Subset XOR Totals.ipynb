{
 "cells": [
  {
   "cell_type": "code",
   "execution_count": null,
   "id": "ef44297a",
   "metadata": {
    "vscode": {
     "languageId": "plaintext"
    }
   },
   "outputs": [],
   "source": [
    "# Sum of All Subset XOR Totals\n",
    "class Solution:\n",
    "    def subsetXORSum(self, nums: List[int]) -> int:\n",
    "        def helper(nums, index, XORSum): # Corrected indentation for 'helper' function\n",
    "            if index >= len(nums):\n",
    "                return XORSum\n",
    "            including = helper(nums, index + 1, XORSum ^ nums[index]) # Corrected indentation and spacing\n",
    "            excluding = helper(nums, index + 1, XORSum) # Corrected indentation and spacing\n",
    "            return including + excluding # Corrected indentation\n",
    "\n",
    "        return helper(nums, 0, 0) # Corrected indentation for the call to 'helper' within 'subsetXORSum'"
   ]
  }
 ],
 "metadata": {
  "kernelspec": {
   "display_name": "Python 3 (ipykernel)",
   "language": "python",
   "name": "python3"
  },
  "language_info": {
   "codemirror_mode": {
    "name": "ipython",
    "version": 3
   },
   "file_extension": ".py",
   "mimetype": "text/x-python",
   "name": "python",
   "nbconvert_exporter": "python",
   "pygments_lexer": "ipython3",
   "version": "3.12.4"
  }
 },
 "nbformat": 4,
 "nbformat_minor": 5
}
